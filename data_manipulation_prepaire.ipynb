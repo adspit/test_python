{
 "cells": [
  {
   "cell_type": "code",
   "execution_count": 2,
   "id": "b783a610-a9f0-4881-9bc6-c11c9258170a",
   "metadata": {},
   "outputs": [],
   "source": [
    "import numpy as np\n",
    "import pandas as pd\n",
    "import csv\n",
    "import os\n",
    "%matplotlib inline"
   ]
  },
  {
   "cell_type": "markdown",
   "id": "9e5da5b5-cbaa-481e-8d46-ada81e3d485b",
   "metadata": {},
   "source": [
    "Problem:\n",
    "You are provided with a dataset (taxonomic_data.csv) representing species counts grouped by taxonomic classifications.\n",
    "\n",
    "Your task is to:\n",
    "Save results in a csv file after calculating:\n",
    "- Total species count for each taxonomic phylum.\n",
    "- Average species count per species within each phylum.\n",
    "- Generate a bar chart showing the total species count for each phylum."
   ]
  },
  {
   "cell_type": "code",
   "execution_count": 11,
   "id": "82ab2dc8-05b3-4c27-85c8-99c2ff46cb2f",
   "metadata": {},
   "outputs": [
    {
     "data": {
      "text/html": [
       "<div>\n",
       "<style scoped>\n",
       "    .dataframe tbody tr th:only-of-type {\n",
       "        vertical-align: middle;\n",
       "    }\n",
       "\n",
       "    .dataframe tbody tr th {\n",
       "        vertical-align: top;\n",
       "    }\n",
       "\n",
       "    .dataframe thead th {\n",
       "        text-align: right;\n",
       "    }\n",
       "</style>\n",
       "<table border=\"1\" class=\"dataframe\">\n",
       "  <thead>\n",
       "    <tr style=\"text-align: right;\">\n",
       "      <th></th>\n",
       "      <th>species</th>\n",
       "      <th>phylum</th>\n",
       "      <th>count</th>\n",
       "    </tr>\n",
       "  </thead>\n",
       "  <tbody>\n",
       "    <tr>\n",
       "      <th>0</th>\n",
       "      <td>SpeciesA</td>\n",
       "      <td>Firmicutes</td>\n",
       "      <td>120</td>\n",
       "    </tr>\n",
       "    <tr>\n",
       "      <th>1</th>\n",
       "      <td>SpeciesB</td>\n",
       "      <td>Firmicutes</td>\n",
       "      <td>80</td>\n",
       "    </tr>\n",
       "    <tr>\n",
       "      <th>2</th>\n",
       "      <td>SpeciesC</td>\n",
       "      <td>Bacteroidetes</td>\n",
       "      <td>200</td>\n",
       "    </tr>\n",
       "    <tr>\n",
       "      <th>3</th>\n",
       "      <td>SpeciesD</td>\n",
       "      <td>Bacteroidetes</td>\n",
       "      <td>50</td>\n",
       "    </tr>\n",
       "    <tr>\n",
       "      <th>4</th>\n",
       "      <td>SpeciesE</td>\n",
       "      <td>Proteobacteria</td>\n",
       "      <td>300</td>\n",
       "    </tr>\n",
       "    <tr>\n",
       "      <th>5</th>\n",
       "      <td>SpeciesF</td>\n",
       "      <td>Actinobacteria</td>\n",
       "      <td>150</td>\n",
       "    </tr>\n",
       "    <tr>\n",
       "      <th>6</th>\n",
       "      <td>SpeciesG</td>\n",
       "      <td>Actinobacteria</td>\n",
       "      <td>100</td>\n",
       "    </tr>\n",
       "    <tr>\n",
       "      <th>7</th>\n",
       "      <td>SpeciesH</td>\n",
       "      <td>Firmicutes</td>\n",
       "      <td>70</td>\n",
       "    </tr>\n",
       "    <tr>\n",
       "      <th>8</th>\n",
       "      <td>SpeciesI</td>\n",
       "      <td>Proteobacteria</td>\n",
       "      <td>90</td>\n",
       "    </tr>\n",
       "    <tr>\n",
       "      <th>9</th>\n",
       "      <td>SpeciesJ</td>\n",
       "      <td>Bacteroidetes</td>\n",
       "      <td>60</td>\n",
       "    </tr>\n",
       "  </tbody>\n",
       "</table>\n",
       "</div>"
      ],
      "text/plain": [
       "    species          phylum  count\n",
       "0  SpeciesA      Firmicutes    120\n",
       "1  SpeciesB      Firmicutes     80\n",
       "2  SpeciesC   Bacteroidetes    200\n",
       "3  SpeciesD   Bacteroidetes     50\n",
       "4  SpeciesE  Proteobacteria    300\n",
       "5  SpeciesF  Actinobacteria    150\n",
       "6  SpeciesG  Actinobacteria    100\n",
       "7  SpeciesH      Firmicutes     70\n",
       "8  SpeciesI  Proteobacteria     90\n",
       "9  SpeciesJ   Bacteroidetes     60"
      ]
     },
     "execution_count": 11,
     "metadata": {},
     "output_type": "execute_result"
    }
   ],
   "source": [
    "# read data \n",
    "df = pd.read_csv('Test_Prepaire.csv', on_bad_lines='warn')\n",
    "# print df\n",
    "df"
   ]
  },
  {
   "cell_type": "code",
   "execution_count": 5,
   "id": "acff9248-48d4-4ea1-918c-d6490e76f6ce",
   "metadata": {},
   "outputs": [
    {
     "data": {
      "text/plain": [
       "phylum\n",
       "Actinobacteria    250\n",
       "Bacteroidetes     310\n",
       "Firmicutes        270\n",
       "Proteobacteria    390\n",
       "Name: count, dtype: int64"
      ]
     },
     "execution_count": 5,
     "metadata": {},
     "output_type": "execute_result"
    }
   ],
   "source": [
    "# Total species count for each taxonomic phylum.\n",
    "df.groupby('phylum', dropna=False)['count'].sum()"
   ]
  },
  {
   "cell_type": "code",
   "execution_count": 6,
   "id": "5f0f589e-2885-4339-8081-4147a137e867",
   "metadata": {},
   "outputs": [],
   "source": [
    "# write results to file\n",
    "df.groupby('phylum', dropna=False)['count'].sum().to_csv('taxonomic_pylum_total_species_count.csv')"
   ]
  },
  {
   "cell_type": "code",
   "execution_count": 7,
   "id": "fc69279a-45cd-4854-8844-d1bac3501878",
   "metadata": {},
   "outputs": [
    {
     "data": {
      "text/plain": [
       "<Axes: ylabel='phylum'>"
      ]
     },
     "execution_count": 7,
     "metadata": {},
     "output_type": "execute_result"
    },
    {
     "data": {
      "image/png": "[encoded data removed]",
      "text/plain": [
       "<Figure size 700x700 with 1 Axes>"
      ]
     },
     "metadata": {},
     "output_type": "display_data"
    }
   ],
   "source": [
    "# bar chart showing the total species count for each phylum\n",
    "df.groupby('phylum', dropna=False)['count'].sum().plot(kind='barh', figsize=(7,7))"
   ]
  },
  {
   "cell_type": "code",
   "execution_count": 8,
   "id": "071bc1d3-1bc6-4d8e-a1a2-2c45a36dfbb0",
   "metadata": {},
   "outputs": [
    {
     "data": {
      "text/html": [
       "<div>\n",
       "<style scoped>\n",
       "    .dataframe tbody tr th:only-of-type {\n",
       "        vertical-align: middle;\n",
       "    }\n",
       "\n",
       "    .dataframe tbody tr th {\n",
       "        vertical-align: top;\n",
       "    }\n",
       "\n",
       "    .dataframe thead th {\n",
       "        text-align: right;\n",
       "    }\n",
       "</style>\n",
       "<table border=\"1\" class=\"dataframe\">\n",
       "  <thead>\n",
       "    <tr style=\"text-align: right;\">\n",
       "      <th></th>\n",
       "      <th></th>\n",
       "      <th>count</th>\n",
       "    </tr>\n",
       "    <tr>\n",
       "      <th>species</th>\n",
       "      <th>phylum</th>\n",
       "      <th></th>\n",
       "    </tr>\n",
       "  </thead>\n",
       "  <tbody>\n",
       "    <tr>\n",
       "      <th>SpeciesA</th>\n",
       "      <th>Firmicutes</th>\n",
       "      <td>120.0</td>\n",
       "    </tr>\n",
       "    <tr>\n",
       "      <th>SpeciesB</th>\n",
       "      <th>Firmicutes</th>\n",
       "      <td>80.0</td>\n",
       "    </tr>\n",
       "    <tr>\n",
       "      <th>SpeciesC</th>\n",
       "      <th>Bacteroidetes</th>\n",
       "      <td>200.0</td>\n",
       "    </tr>\n",
       "    <tr>\n",
       "      <th>SpeciesD</th>\n",
       "      <th>Bacteroidetes</th>\n",
       "      <td>50.0</td>\n",
       "    </tr>\n",
       "    <tr>\n",
       "      <th>SpeciesE</th>\n",
       "      <th>Proteobacteria</th>\n",
       "      <td>300.0</td>\n",
       "    </tr>\n",
       "    <tr>\n",
       "      <th>SpeciesF</th>\n",
       "      <th>Actinobacteria</th>\n",
       "      <td>150.0</td>\n",
       "    </tr>\n",
       "    <tr>\n",
       "      <th>SpeciesG</th>\n",
       "      <th>Actinobacteria</th>\n",
       "      <td>100.0</td>\n",
       "    </tr>\n",
       "    <tr>\n",
       "      <th>SpeciesH</th>\n",
       "      <th>Firmicutes</th>\n",
       "      <td>70.0</td>\n",
       "    </tr>\n",
       "    <tr>\n",
       "      <th>SpeciesI</th>\n",
       "      <th>Proteobacteria</th>\n",
       "      <td>90.0</td>\n",
       "    </tr>\n",
       "    <tr>\n",
       "      <th>SpeciesJ</th>\n",
       "      <th>Bacteroidetes</th>\n",
       "      <td>60.0</td>\n",
       "    </tr>\n",
       "  </tbody>\n",
       "</table>\n",
       "</div>"
      ],
      "text/plain": [
       "                         count\n",
       "species  phylum               \n",
       "SpeciesA Firmicutes      120.0\n",
       "SpeciesB Firmicutes       80.0\n",
       "SpeciesC Bacteroidetes   200.0\n",
       "SpeciesD Bacteroidetes    50.0\n",
       "SpeciesE Proteobacteria  300.0\n",
       "SpeciesF Actinobacteria  150.0\n",
       "SpeciesG Actinobacteria  100.0\n",
       "SpeciesH Firmicutes       70.0\n",
       "SpeciesI Proteobacteria   90.0\n",
       "SpeciesJ Bacteroidetes    60.0"
      ]
     },
     "execution_count": 8,
     "metadata": {},
     "output_type": "execute_result"
    }
   ],
   "source": [
    "# Average species count per species within each phylum - if I understood the question right\n",
    "df.groupby(['species', 'phylum']).mean()"
   ]
  },
  {
   "cell_type": "code",
   "execution_count": 9,
   "id": "8e27a879-53d6-44bd-bbe5-eda7e97b33bc",
   "metadata": {},
   "outputs": [],
   "source": [
    "# write results \n",
    "df.groupby(['species', 'phylum']).mean().to_csv(\"taxonomic_pylum_species_average.csv\")"
   ]
  },
  {
   "cell_type": "code",
   "execution_count": 10,
   "id": "f11237b0-2802-490e-959a-262cd23c8f5d",
   "metadata": {},
   "outputs": [
    {
     "data": {
      "text/plain": [
       "phylum\n",
       "Actinobacteria    125.000000\n",
       "Bacteroidetes     103.333333\n",
       "Firmicutes         90.000000\n",
       "Proteobacteria    195.000000\n",
       "Name: count, dtype: float64"
      ]
     },
     "execution_count": 10,
     "metadata": {},
     "output_type": "execute_result"
    }
   ],
   "source": [
    "# Average species count within each phylum if this is what it was meant with the previous question\n",
    "df.groupby('phylum')['count'].mean()"
   ]
  }
 ],
 "metadata": {
  "kernelspec": {
   "display_name": "Python 3 (ipykernel)",
   "language": "python",
   "name": "python3"
  },
  "language_info": {
   "codemirror_mode": {
    "name": "ipython",
    "version": 3
   },
   "file_extension": ".py",
   "mimetype": "text/x-python",
   "name": "python",
   "nbconvert_exporter": "python",
   "pygments_lexer": "ipython3",
   "version": "3.11.6"
  }
 },
 "nbformat": 4,
 "nbformat_minor": 5
}
